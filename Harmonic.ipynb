{
 "cells": [
  {
   "cell_type": "markdown",
   "metadata": {},
   "source": [
    "### Harmonic Oscillator Energy By Monte Carlo Approach"
   ]
  },
  {
   "cell_type": "markdown",
   "metadata": {},
   "source": [
    "<span style=\"color:blue\"> **Monte Carlo** </span> is an Algorithm that divides a function into two pieces, $f$, and $P$, as a probability function. In each step, select a random variable, such as $x$, and insert it into $P$, then assess its relationship divided by the probability of the preceding variable. If the result is more than one, this variable is added to the data list. In addition, if it is greater than another random integer, $x$ is added to the list. We now have a sequence of data in the $x$ list, which is fed into the main function as the energy function,<span style=\"color:blue\"> which computes the sum of outputs divided by data numbers</span>. As a result, we have the system's energy."
   ]
  },
  {
   "cell_type": "code",
   "execution_count": 3,
   "metadata": {},
   "outputs": [
    {
     "name": "stdout",
     "output_type": "stream",
     "text": [
      "lambda: 0.5000000000000001\n"
     ]
    }
   ],
   "source": [
    "from random import random\n",
    "import numpy as np\n",
    "import matplotlib.pyplot as plt\n",
    "\n",
    "x_list = []\n",
    "x = random()\n",
    "delta = 1\n",
    "l = np.arange(0.1,1,0.05)\n",
    "e_list = []\n",
    "v_list = []\n",
    "def p(x,l):\n",
    "    return np.exp(-2*l*(x**2))\n",
    "\n",
    "N = 10000\n",
    "for j in l:\n",
    "    x_list = []\n",
    "    for i in range(N):\n",
    "        xtrial = x+(delta*(2*random()-1)) #test sample\n",
    "        w = p(xtrial,j)/p(x,j)\n",
    "        \n",
    "        if w > 1:\n",
    "            x = xtrial\n",
    "            x_list.append(x)\n",
    "        else:\n",
    "            r = random()\n",
    "            if r <= w:\n",
    "                x = xtrial \n",
    "                x_list.append(x)\n",
    "            else:\n",
    "                x_list.append(x)\n",
    "                \n",
    "    E,E1=0,0\n",
    "    for y in x_list:\n",
    "        E2 = j + ((y**2)*((1/2)-2*(j**2)))\n",
    "        E = E + E2\n",
    "        E1 = E1 + (E2**2)\n",
    "        \n",
    "    e_list.append(E/N)\n",
    "    v_list.append(((E1/N)-((E/N)**2))) \n",
    "a = e_list.index(min(e_list)) # Minimum value of Lambda\n",
    "print(\"lambda:\",l[a])"
   ]
  },
  {
   "cell_type": "code",
   "execution_count": 4,
   "metadata": {},
   "outputs": [
    {
     "name": "stdout",
     "output_type": "stream",
     "text": [
      "0.5\n"
     ]
    },
    {
     "data": {
      "image/png": "[encoded data removed]",
      "text/plain": [
       "<Figure size 432x288 with 1 Axes>"
      ]
     },
     "metadata": {
      "needs_background": "light"
     },
     "output_type": "display_data"
    },
    {
     "data": {
      "image/png": "[encoded data removed]",
      "text/plain": [
       "<Figure size 432x288 with 1 Axes>"
      ]
     },
     "metadata": {
      "needs_background": "light"
     },
     "output_type": "display_data"
    }
   ],
   "source": [
    "print(min(e_list))\n",
    "plt.plot(l,e_list)\n",
    "plt.ylabel(\"E\")\n",
    "plt.xlabel(\"lambda\")\n",
    "plt.show()\n",
    "plt.plot(l,v_list)\n",
    "plt.xlabel(\"lambda\")\n",
    "plt.ylabel(\"sinma^2\")\n",
    "plt.show()"
   ]
  },
  {
   "cell_type": "code",
   "execution_count": null,
   "metadata": {},
   "outputs": [],
   "source": []
  }
 ],
 "metadata": {
  "kernelspec": {
   "display_name": "Python 3",
   "language": "python",
   "name": "python3"
  },
  "language_info": {
   "codemirror_mode": {
    "name": "ipython",
    "version": 3
   },
   "file_extension": ".py",
   "mimetype": "text/x-python",
   "name": "python",
   "nbconvert_exporter": "python",
   "pygments_lexer": "ipython3",
   "version": "3.8.5"
  }
 },
 "nbformat": 4,
 "nbformat_minor": 4
}
